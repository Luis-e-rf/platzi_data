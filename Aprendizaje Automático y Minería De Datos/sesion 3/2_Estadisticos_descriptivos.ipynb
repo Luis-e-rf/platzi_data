{
  "nbformat": 4,
  "nbformat_minor": 0,
  "metadata": {
    "colab": {
      "provenance": [],
      "include_colab_link": true
    },
    "kernelspec": {
      "name": "python3",
      "display_name": "Python 3"
    },
    "language_info": {
      "name": "python"
    }
  },
  "cells": [
    {
      "cell_type": "markdown",
      "metadata": {
        "id": "view-in-github",
        "colab_type": "text"
      },
      "source": [
        "<a href=\"https://colab.research.google.com/github/Yurakc/platzi_data/blob/main/Aprendizaje%20Autom%C3%A1tico%20y%20Miner%C3%ADa%20De%20Datos/sesion%203/2_Estadisticos_descriptivos.ipynb\" target=\"_parent\"><img src=\"https://colab.research.google.com/assets/colab-badge.svg\" alt=\"Open In Colab\"/></a>"
      ]
    },
    {
      "cell_type": "code",
      "metadata": {
        "id": "8EqFV2hUzuZH"
      },
      "source": [
        "import numpy as np\n",
        "import pandas as pd\n",
        "import scipy.stats as stats"
      ],
      "execution_count": null,
      "outputs": []
    },
    {
      "cell_type": "code",
      "metadata": {
        "id": "DFjPOgmrzxKa"
      },
      "source": [
        "pesos = [100, 150, 150, 200, 250, 300, 325, 400,415, 500, 600, 1000]"
      ],
      "execution_count": null,
      "outputs": []
    },
    {
      "cell_type": "code",
      "metadata": {
        "colab": {
          "base_uri": "https://localhost:8080/"
        },
        "id": "W6_JJ560zxv-",
        "outputId": "9d1353d9-e425-499d-b495-42bdbe755f44"
      },
      "source": [
        "pesos"
      ],
      "execution_count": null,
      "outputs": [
        {
          "output_type": "execute_result",
          "data": {
            "text/plain": [
              "[100, 150, 150, 200, 250, 300, 325, 400, 415, 500, 600, 1000]"
            ]
          },
          "metadata": {},
          "execution_count": 3
        }
      ]
    },
    {
      "cell_type": "code",
      "metadata": {
        "colab": {
          "base_uri": "https://localhost:8080/"
        },
        "id": "ddsapUFi3cr4",
        "outputId": "d97ead28-8824-48e2-aae9-3cafd21f5766"
      },
      "source": [
        "len(pesos)"
      ],
      "execution_count": null,
      "outputs": [
        {
          "output_type": "execute_result",
          "data": {
            "text/plain": [
              "12"
            ]
          },
          "metadata": {},
          "execution_count": 4
        }
      ]
    },
    {
      "cell_type": "code",
      "metadata": {
        "colab": {
          "base_uri": "https://localhost:8080/"
        },
        "id": "wu_HAyvo3g4R",
        "outputId": "74da48b8-7148-4355-8cc1-c9231c547e2c"
      },
      "source": [
        "pesos[-2]"
      ],
      "execution_count": null,
      "outputs": [
        {
          "output_type": "execute_result",
          "data": {
            "text/plain": [
              "600"
            ]
          },
          "metadata": {},
          "execution_count": 9
        }
      ]
    },
    {
      "cell_type": "markdown",
      "metadata": {
        "id": "U-YI4XWX0FbB"
      },
      "source": [
        "# Media"
      ]
    },
    {
      "cell_type": "code",
      "metadata": {
        "colab": {
          "base_uri": "https://localhost:8080/"
        },
        "id": "mdQ-GS0ozzRY",
        "outputId": "a5224fa3-ac9b-4b76-dd85-863640b55062"
      },
      "source": [
        "pesos_media = np.mean(pesos)\n",
        "pesos_media"
      ],
      "execution_count": null,
      "outputs": [
        {
          "output_type": "execute_result",
          "data": {
            "text/plain": [
              "365.8333333333333"
            ]
          },
          "metadata": {},
          "execution_count": 10
        }
      ]
    },
    {
      "cell_type": "markdown",
      "metadata": {
        "id": "vfNmutd90H1g"
      },
      "source": [
        "# Mediana"
      ]
    },
    {
      "cell_type": "code",
      "metadata": {
        "colab": {
          "base_uri": "https://localhost:8080/"
        },
        "id": "Kq72GYyRz1Cc",
        "outputId": "f48db81e-0500-4be5-bb9b-18e60d268629"
      },
      "source": [
        "np.median(pesos)"
      ],
      "execution_count": null,
      "outputs": [
        {
          "output_type": "execute_result",
          "data": {
            "text/plain": [
              "312.5"
            ]
          },
          "metadata": {},
          "execution_count": 11
        }
      ]
    },
    {
      "cell_type": "markdown",
      "metadata": {
        "id": "owd2yM7m0PSU"
      },
      "source": [
        "# Moda"
      ]
    },
    {
      "cell_type": "code",
      "metadata": {
        "colab": {
          "base_uri": "https://localhost:8080/"
        },
        "id": "3I7YFevwz2Lj",
        "outputId": "bca780bd-e5ed-4597-f302-cde784023e76"
      },
      "source": [
        "stats.mode(pesos)"
      ],
      "execution_count": null,
      "outputs": [
        {
          "output_type": "execute_result",
          "data": {
            "text/plain": [
              "ModeResult(mode=array([150]), count=array([2]))"
            ]
          },
          "metadata": {},
          "execution_count": 12
        }
      ]
    },
    {
      "cell_type": "markdown",
      "metadata": {
        "id": "1qeWXJJp0SkK"
      },
      "source": [
        "# Rango"
      ]
    },
    {
      "cell_type": "code",
      "metadata": {
        "colab": {
          "base_uri": "https://localhost:8080/"
        },
        "id": "1oNwRn6Oz5bj",
        "outputId": "61a7157e-8e96-4587-fd82-c3c0bf6b410b"
      },
      "source": [
        "np.max(pesos) - np.min(pesos)"
      ],
      "execution_count": null,
      "outputs": [
        {
          "output_type": "execute_result",
          "data": {
            "text/plain": [
              "900"
            ]
          },
          "metadata": {},
          "execution_count": 13
        }
      ]
    },
    {
      "cell_type": "markdown",
      "metadata": {
        "id": "GIQy_HG60W_C"
      },
      "source": [
        "# Cuartiles y IQR"
      ]
    },
    {
      "cell_type": "code",
      "metadata": {
        "colab": {
          "base_uri": "https://localhost:8080/"
        },
        "id": "qnaQFPxez59O",
        "outputId": "92eeb511-62b1-4917-d047-34f5828eca70"
      },
      "source": [
        "stats.mstats.mquantiles(pesos)"
      ],
      "execution_count": null,
      "outputs": [
        {
          "output_type": "execute_result",
          "data": {
            "text/plain": [
              "array([172.5 , 312.5 , 461.75])"
            ]
          },
          "metadata": {},
          "execution_count": 14
        }
      ]
    },
    {
      "cell_type": "code",
      "metadata": {
        "colab": {
          "base_uri": "https://localhost:8080/"
        },
        "id": "aSTllqdmz7Lv",
        "outputId": "fd9aab60-d084-4fe5-f7de-f21ca6d53ed3"
      },
      "source": [
        "pesos_cuartiles = pd.qcut(pesos, 4)\n",
        "\n",
        "pesos_cuartiles.categories"
      ],
      "execution_count": null,
      "outputs": [
        {
          "output_type": "execute_result",
          "data": {
            "text/plain": [
              "IntervalIndex([(99.999, 187.5], (187.5, 312.5], (312.5, 436.25], (436.25, 1000.0]],\n",
              "              closed='right',\n",
              "              dtype='interval[float64]')"
            ]
          },
          "metadata": {},
          "execution_count": 15
        }
      ]
    },
    {
      "cell_type": "markdown",
      "metadata": {
        "id": "zSBdX52H0bgy"
      },
      "source": [
        "La funcion pandas.qcut convierte una serie en una lista de N cuantiles. Si le pasamos 4, tenemos los cuartiles. qcut devuelve una serie categórica nueva con los cuantiles como categorias"
      ]
    },
    {
      "cell_type": "code",
      "metadata": {
        "colab": {
          "base_uri": "https://localhost:8080/"
        },
        "id": "bDvTdDuB0fes",
        "outputId": "58d3acf0-f8a9-4bba-a094-752d365b6db3"
      },
      "source": [
        "pesos_cuartiles = pd.qcut(pesos, 4)\n",
        "\n",
        "pesos_cuartiles.categories"
      ],
      "execution_count": null,
      "outputs": [
        {
          "output_type": "execute_result",
          "data": {
            "text/plain": [
              "IntervalIndex([(99.999, 187.5], (187.5, 312.5], (312.5, 436.25], (436.25, 1000.0]],\n",
              "              closed='right',\n",
              "              dtype='interval[float64]')"
            ]
          },
          "metadata": {},
          "execution_count": 10
        }
      ]
    },
    {
      "cell_type": "markdown",
      "metadata": {
        "id": "sgsNrfpU0h_Q"
      },
      "source": [
        "Aqui se ve que los intervalos que separan los pesos en 4 bloques son:\n",
        "\n",
        "Categories (4, interval[float64]): [(99.999, 187.5] < (187.5, 312.5] < (312.5, 436.25] < (436.25, 1000.0]]\n",
        "\n",
        "con 187.5 siendo Q1 y 436.25 siendo Q3\n",
        "\n",
        "Es importante notar que hay diversas formas de obtener los cuartiles, de aqui la diferencia con el método calculado a mano"
      ]
    },
    {
      "cell_type": "code",
      "metadata": {
        "colab": {
          "base_uri": "https://localhost:8080/"
        },
        "id": "JT9rVdG_z_8l",
        "outputId": "47e27c92-df92-4bbf-ca5b-c8eff84a66fa"
      },
      "source": [
        "IQR = 436.25 - 187.5\n",
        "IQR"
      ],
      "execution_count": null,
      "outputs": [
        {
          "output_type": "execute_result",
          "data": {
            "text/plain": [
              "248.75"
            ]
          },
          "metadata": {},
          "execution_count": 16
        }
      ]
    },
    {
      "cell_type": "markdown",
      "metadata": {
        "id": "tZ1D01QD0jme"
      },
      "source": [
        "# Desviación Estándar"
      ]
    },
    {
      "cell_type": "code",
      "metadata": {
        "colab": {
          "base_uri": "https://localhost:8080/"
        },
        "id": "0htIbiaa0CUW",
        "outputId": "a3b5ff52-fca1-4507-9577-0f30de27fd8a"
      },
      "source": [
        "pesos_std = np.std(pesos)\n",
        "pesos_std"
      ],
      "execution_count": null,
      "outputs": [
        {
          "output_type": "execute_result",
          "data": {
            "text/plain": [
              "239.6771555423856"
            ]
          },
          "metadata": {},
          "execution_count": 17
        }
      ]
    }
  ]
}