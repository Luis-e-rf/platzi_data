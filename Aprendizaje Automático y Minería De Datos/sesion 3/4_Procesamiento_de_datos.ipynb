{
  "nbformat": 4,
  "nbformat_minor": 0,
  "metadata": {
    "kernelspec": {
      "display_name": "Python 3",
      "language": "python",
      "name": "python3"
    },
    "language_info": {
      "codemirror_mode": {
        "name": "ipython",
        "version": 3
      },
      "file_extension": ".py",
      "mimetype": "text/x-python",
      "name": "python",
      "nbconvert_exporter": "python",
      "pygments_lexer": "ipython3",
      "version": "3.8.8"
    },
    "colab": {
      "provenance": [],
      "include_colab_link": true
    }
  },
  "cells": [
    {
      "cell_type": "markdown",
      "metadata": {
        "id": "view-in-github",
        "colab_type": "text"
      },
      "source": [
        "<a href=\"https://colab.research.google.com/github/Yurakc/platzi_data/blob/main/Aprendizaje%20Autom%C3%A1tico%20y%20Miner%C3%ADa%20De%20Datos/sesion%203/4_Procesamiento_de_datos.ipynb\" target=\"_parent\"><img src=\"https://colab.research.google.com/assets/colab-badge.svg\" alt=\"Open In Colab\"/></a>"
      ]
    },
    {
      "cell_type": "markdown",
      "metadata": {
        "id": "KKby7CrC1BFe"
      },
      "source": [
        "En esta sección vamos a ver diversas formas para procesar un dataset. Por procesamiento (tambien llamado limpieza) nos referimos a preparar el dataset para la creación de modelos predictivos."
      ]
    },
    {
      "cell_type": "markdown",
      "metadata": {
        "id": "nZ22pwra1BFg"
      },
      "source": [
        "#### Descripción\n",
        "\n",
        "El dataset consiste en información relativa a vehículos vendidos en USA desde 1985. Dicha información incluye detalles técnicos (cilindrada, tipo de transmisión) y detalles medioambientales (consumo de gasolina, emisiones de CO2)\n",
        "\n",
        "El archivo original está en: https://www.fueleconomy.gov/feg/epadata/vehicles.csv.zip\n",
        "El archivo que vamos a usar es una versión modificada (con menos columnas)\n",
        "\n",
        "Descripcion del dataset Original\n",
        "http://www.fueleconomy.gov/feg/ws/index.shtml#ft7\n",
        "\n",
        "En la sección de análisis de datos, detectamos los siguientes errores en el dataset original\n",
        "\n",
        "- Hay 1506 records duplicados\n",
        "- Las variables desplazamiento, cilindros, transmision y traccion tienen valores inexistentes\n",
        "- hay un outlier en las variables `co2` y `consumo`\n",
        "- Hay coches hibridos y coches electricos (hemos removido estos ultimos ya que no contaminan).\n",
        "- Ninguna variable numérica sigue una distribución normal"
      ]
    },
    {
      "cell_type": "code",
      "metadata": {
        "id": "pSGTZkOT1BFh"
      },
      "source": [
        "import pandas as pd\n",
        "import matplotlib.pyplot as plt\n",
        "%matplotlib inline\n",
        "plt.rcParams[\"figure.figsize\"] = (7,7)"
      ],
      "execution_count": null,
      "outputs": []
    },
    {
      "cell_type": "code",
      "metadata": {
        "id": "vP1JsEdj1BFh"
      },
      "source": [
        "vehiculos = (pd\n",
        "             .read_csv(\"vehiculos_original.csv\")\n",
        "             .rename(columns={\n",
        "                \"cylinders\":\"cilindros\",\n",
        "                \"trany\":\"transmision\",\n",
        "                \"make\":\"fabricante\",\n",
        "                \"model\":\"modelo\",\n",
        "                \"displ\":\"desplazamiento\", #volumen de desplazamiento del motor\n",
        "                \"drive\":\"traccion\",\n",
        "                \"VClass\":\"clase\",\n",
        "                \"fuelType\":\"combustible\",\n",
        "                \"comb08\":\"consumo\", #combined MPG for fuelType1\n",
        "                \"co2TailpipeGpm\":\"co2\", # tailpipe CO2 in grams/mile\n",
        "            })\n",
        "            .query(\"co2>0\")\n",
        ")"
      ],
      "execution_count": null,
      "outputs": []
    },
    {
      "cell_type": "code",
      "metadata": {
        "colab": {
          "base_uri": "https://localhost:8080/"
        },
        "id": "rb2HeaKF1BFi",
        "outputId": "c3fb3773-9cf6-4878-bd48-51033c267dd1"
      },
      "source": [
        "vehiculos.shape"
      ],
      "execution_count": null,
      "outputs": [
        {
          "output_type": "execute_result",
          "data": {
            "text/plain": [
              "(38297, 11)"
            ]
          },
          "metadata": {},
          "execution_count": 3
        }
      ]
    },
    {
      "cell_type": "code",
      "metadata": {
        "colab": {
          "base_uri": "https://localhost:8080/",
          "height": 833
        },
        "id": "y6PclZY51BFi",
        "outputId": "0d0a72fe-c40f-4f7b-fb9e-6fde53a56839"
      },
      "source": [
        "vehiculos"
      ],
      "execution_count": null,
      "outputs": [
        {
          "output_type": "execute_result",
          "data": {
            "text/html": [
              "<div>\n",
              "<style scoped>\n",
              "    .dataframe tbody tr th:only-of-type {\n",
              "        vertical-align: middle;\n",
              "    }\n",
              "\n",
              "    .dataframe tbody tr th {\n",
              "        vertical-align: top;\n",
              "    }\n",
              "\n",
              "    .dataframe thead th {\n",
              "        text-align: right;\n",
              "    }\n",
              "</style>\n",
              "<table border=\"1\" class=\"dataframe\">\n",
              "  <thead>\n",
              "    <tr style=\"text-align: right;\">\n",
              "      <th></th>\n",
              "      <th>fabricante</th>\n",
              "      <th>modelo</th>\n",
              "      <th>year</th>\n",
              "      <th>desplazamiento</th>\n",
              "      <th>cilindros</th>\n",
              "      <th>transmision</th>\n",
              "      <th>traccion</th>\n",
              "      <th>clase</th>\n",
              "      <th>combustible</th>\n",
              "      <th>consumo</th>\n",
              "      <th>co2</th>\n",
              "    </tr>\n",
              "  </thead>\n",
              "  <tbody>\n",
              "    <tr>\n",
              "      <th>0</th>\n",
              "      <td>AM General</td>\n",
              "      <td>DJ Po Vehicle 2WD</td>\n",
              "      <td>1984</td>\n",
              "      <td>2.5</td>\n",
              "      <td>4.0</td>\n",
              "      <td>Automatic 3-spd</td>\n",
              "      <td>2-Wheel Drive</td>\n",
              "      <td>Special Purpose Vehicle 2WD</td>\n",
              "      <td>Regular</td>\n",
              "      <td>17</td>\n",
              "      <td>522.764706</td>\n",
              "    </tr>\n",
              "    <tr>\n",
              "      <th>1</th>\n",
              "      <td>AM General</td>\n",
              "      <td>DJ Po Vehicle 2WD</td>\n",
              "      <td>1984</td>\n",
              "      <td>2.5</td>\n",
              "      <td>4.0</td>\n",
              "      <td>Automatic 3-spd</td>\n",
              "      <td>2-Wheel Drive</td>\n",
              "      <td>Special Purpose Vehicle 2WD</td>\n",
              "      <td>Regular</td>\n",
              "      <td>17</td>\n",
              "      <td>522.764706</td>\n",
              "    </tr>\n",
              "    <tr>\n",
              "      <th>2</th>\n",
              "      <td>AM General</td>\n",
              "      <td>FJ8c Post Office</td>\n",
              "      <td>1984</td>\n",
              "      <td>4.2</td>\n",
              "      <td>6.0</td>\n",
              "      <td>Automatic 3-spd</td>\n",
              "      <td>2-Wheel Drive</td>\n",
              "      <td>Special Purpose Vehicle 2WD</td>\n",
              "      <td>Regular</td>\n",
              "      <td>13</td>\n",
              "      <td>683.615385</td>\n",
              "    </tr>\n",
              "    <tr>\n",
              "      <th>3</th>\n",
              "      <td>AM General</td>\n",
              "      <td>FJ8c Post Office</td>\n",
              "      <td>1984</td>\n",
              "      <td>4.2</td>\n",
              "      <td>6.0</td>\n",
              "      <td>Automatic 3-spd</td>\n",
              "      <td>2-Wheel Drive</td>\n",
              "      <td>Special Purpose Vehicle 2WD</td>\n",
              "      <td>Regular</td>\n",
              "      <td>13</td>\n",
              "      <td>683.615385</td>\n",
              "    </tr>\n",
              "    <tr>\n",
              "      <th>4</th>\n",
              "      <td>AM General</td>\n",
              "      <td>Post Office DJ5 2WD</td>\n",
              "      <td>1985</td>\n",
              "      <td>2.5</td>\n",
              "      <td>4.0</td>\n",
              "      <td>Automatic 3-spd</td>\n",
              "      <td>Rear-Wheel Drive</td>\n",
              "      <td>Special Purpose Vehicle 2WD</td>\n",
              "      <td>Regular</td>\n",
              "      <td>16</td>\n",
              "      <td>555.437500</td>\n",
              "    </tr>\n",
              "    <tr>\n",
              "      <th>...</th>\n",
              "      <td>...</td>\n",
              "      <td>...</td>\n",
              "      <td>...</td>\n",
              "      <td>...</td>\n",
              "      <td>...</td>\n",
              "      <td>...</td>\n",
              "      <td>...</td>\n",
              "      <td>...</td>\n",
              "      <td>...</td>\n",
              "      <td>...</td>\n",
              "      <td>...</td>\n",
              "    </tr>\n",
              "    <tr>\n",
              "      <th>38421</th>\n",
              "      <td>smart</td>\n",
              "      <td>fortwo coupe</td>\n",
              "      <td>2015</td>\n",
              "      <td>1.0</td>\n",
              "      <td>3.0</td>\n",
              "      <td>Automatic (AM5)</td>\n",
              "      <td>Rear-Wheel Drive</td>\n",
              "      <td>Two Seaters</td>\n",
              "      <td>Premium</td>\n",
              "      <td>36</td>\n",
              "      <td>244.000000</td>\n",
              "    </tr>\n",
              "    <tr>\n",
              "      <th>38422</th>\n",
              "      <td>smart</td>\n",
              "      <td>fortwo coupe</td>\n",
              "      <td>2016</td>\n",
              "      <td>0.9</td>\n",
              "      <td>3.0</td>\n",
              "      <td>Automatic (AM6)</td>\n",
              "      <td>Rear-Wheel Drive</td>\n",
              "      <td>Two Seaters</td>\n",
              "      <td>Premium</td>\n",
              "      <td>35</td>\n",
              "      <td>246.000000</td>\n",
              "    </tr>\n",
              "    <tr>\n",
              "      <th>38423</th>\n",
              "      <td>smart</td>\n",
              "      <td>fortwo coupe</td>\n",
              "      <td>2016</td>\n",
              "      <td>0.9</td>\n",
              "      <td>3.0</td>\n",
              "      <td>Manual 5-spd</td>\n",
              "      <td>Rear-Wheel Drive</td>\n",
              "      <td>Two Seaters</td>\n",
              "      <td>Premium</td>\n",
              "      <td>34</td>\n",
              "      <td>255.000000</td>\n",
              "    </tr>\n",
              "    <tr>\n",
              "      <th>38424</th>\n",
              "      <td>smart</td>\n",
              "      <td>fortwo coupe</td>\n",
              "      <td>2017</td>\n",
              "      <td>0.9</td>\n",
              "      <td>3.0</td>\n",
              "      <td>Automatic (AM6)</td>\n",
              "      <td>Rear-Wheel Drive</td>\n",
              "      <td>Two Seaters</td>\n",
              "      <td>Premium</td>\n",
              "      <td>35</td>\n",
              "      <td>248.000000</td>\n",
              "    </tr>\n",
              "    <tr>\n",
              "      <th>38425</th>\n",
              "      <td>smart</td>\n",
              "      <td>fortwo coupe</td>\n",
              "      <td>2017</td>\n",
              "      <td>0.9</td>\n",
              "      <td>3.0</td>\n",
              "      <td>Manual 5-spd</td>\n",
              "      <td>Rear-Wheel Drive</td>\n",
              "      <td>Two Seaters</td>\n",
              "      <td>Premium</td>\n",
              "      <td>34</td>\n",
              "      <td>257.000000</td>\n",
              "    </tr>\n",
              "  </tbody>\n",
              "</table>\n",
              "<p>38297 rows × 11 columns</p>\n",
              "</div>"
            ],
            "text/plain": [
              "       fabricante               modelo  year  ...  combustible  consumo         co2\n",
              "0      AM General    DJ Po Vehicle 2WD  1984  ...      Regular       17  522.764706\n",
              "1      AM General    DJ Po Vehicle 2WD  1984  ...      Regular       17  522.764706\n",
              "2      AM General     FJ8c Post Office  1984  ...      Regular       13  683.615385\n",
              "3      AM General     FJ8c Post Office  1984  ...      Regular       13  683.615385\n",
              "4      AM General  Post Office DJ5 2WD  1985  ...      Regular       16  555.437500\n",
              "...           ...                  ...   ...  ...          ...      ...         ...\n",
              "38421       smart         fortwo coupe  2015  ...      Premium       36  244.000000\n",
              "38422       smart         fortwo coupe  2016  ...      Premium       35  246.000000\n",
              "38423       smart         fortwo coupe  2016  ...      Premium       34  255.000000\n",
              "38424       smart         fortwo coupe  2017  ...      Premium       35  248.000000\n",
              "38425       smart         fortwo coupe  2017  ...      Premium       34  257.000000\n",
              "\n",
              "[38297 rows x 11 columns]"
            ]
          },
          "metadata": {},
          "execution_count": 4
        }
      ]
    },
    {
      "cell_type": "code",
      "metadata": {
        "colab": {
          "base_uri": "https://localhost:8080/"
        },
        "id": "-QmuQjiR1BFj",
        "outputId": "7fb55cd9-0845-440d-eec3-a910d56dcdd0"
      },
      "source": [
        "vehiculos.dtypes"
      ],
      "execution_count": null,
      "outputs": [
        {
          "output_type": "execute_result",
          "data": {
            "text/plain": [
              "fabricante         object\n",
              "modelo             object\n",
              "year                int64\n",
              "desplazamiento    float64\n",
              "cilindros         float64\n",
              "transmision        object\n",
              "traccion           object\n",
              "clase              object\n",
              "combustible        object\n",
              "consumo             int64\n",
              "co2               float64\n",
              "dtype: object"
            ]
          },
          "metadata": {},
          "execution_count": 5
        }
      ]
    },
    {
      "cell_type": "code",
      "metadata": {
        "colab": {
          "base_uri": "https://localhost:8080/",
          "height": 294
        },
        "id": "3NGVvvpE1BFj",
        "outputId": "04a21330-dfe3-461e-b51b-b712bdeafdd4"
      },
      "source": [
        "vehiculos.describe()"
      ],
      "execution_count": null,
      "outputs": [
        {
          "output_type": "execute_result",
          "data": {
            "text/html": [
              "<div>\n",
              "<style scoped>\n",
              "    .dataframe tbody tr th:only-of-type {\n",
              "        vertical-align: middle;\n",
              "    }\n",
              "\n",
              "    .dataframe tbody tr th {\n",
              "        vertical-align: top;\n",
              "    }\n",
              "\n",
              "    .dataframe thead th {\n",
              "        text-align: right;\n",
              "    }\n",
              "</style>\n",
              "<table border=\"1\" class=\"dataframe\">\n",
              "  <thead>\n",
              "    <tr style=\"text-align: right;\">\n",
              "      <th></th>\n",
              "      <th>year</th>\n",
              "      <th>desplazamiento</th>\n",
              "      <th>cilindros</th>\n",
              "      <th>consumo</th>\n",
              "      <th>co2</th>\n",
              "    </tr>\n",
              "  </thead>\n",
              "  <tbody>\n",
              "    <tr>\n",
              "      <th>count</th>\n",
              "      <td>38297.000000</td>\n",
              "      <td>38295.000000</td>\n",
              "      <td>38294.000000</td>\n",
              "      <td>38297.000000</td>\n",
              "      <td>38297.000000</td>\n",
              "    </tr>\n",
              "    <tr>\n",
              "      <th>mean</th>\n",
              "      <td>2000.298170</td>\n",
              "      <td>3.314394</td>\n",
              "      <td>5.733535</td>\n",
              "      <td>19.987936</td>\n",
              "      <td>473.802726</td>\n",
              "    </tr>\n",
              "    <tr>\n",
              "      <th>std</th>\n",
              "      <td>10.531561</td>\n",
              "      <td>1.360686</td>\n",
              "      <td>1.753493</td>\n",
              "      <td>5.091338</td>\n",
              "      <td>119.127591</td>\n",
              "    </tr>\n",
              "    <tr>\n",
              "      <th>min</th>\n",
              "      <td>1984.000000</td>\n",
              "      <td>0.600000</td>\n",
              "      <td>2.000000</td>\n",
              "      <td>7.000000</td>\n",
              "      <td>29.000000</td>\n",
              "    </tr>\n",
              "    <tr>\n",
              "      <th>25%</th>\n",
              "      <td>1991.000000</td>\n",
              "      <td>2.200000</td>\n",
              "      <td>4.000000</td>\n",
              "      <td>17.000000</td>\n",
              "      <td>389.000000</td>\n",
              "    </tr>\n",
              "    <tr>\n",
              "      <th>50%</th>\n",
              "      <td>2001.000000</td>\n",
              "      <td>3.000000</td>\n",
              "      <td>6.000000</td>\n",
              "      <td>19.000000</td>\n",
              "      <td>467.736842</td>\n",
              "    </tr>\n",
              "    <tr>\n",
              "      <th>75%</th>\n",
              "      <td>2010.000000</td>\n",
              "      <td>4.300000</td>\n",
              "      <td>6.000000</td>\n",
              "      <td>23.000000</td>\n",
              "      <td>553.000000</td>\n",
              "    </tr>\n",
              "    <tr>\n",
              "      <th>max</th>\n",
              "      <td>2018.000000</td>\n",
              "      <td>8.400000</td>\n",
              "      <td>16.000000</td>\n",
              "      <td>58.000000</td>\n",
              "      <td>1269.571429</td>\n",
              "    </tr>\n",
              "  </tbody>\n",
              "</table>\n",
              "</div>"
            ],
            "text/plain": [
              "               year  desplazamiento     cilindros       consumo           co2\n",
              "count  38297.000000    38295.000000  38294.000000  38297.000000  38297.000000\n",
              "mean    2000.298170        3.314394      5.733535     19.987936    473.802726\n",
              "std       10.531561        1.360686      1.753493      5.091338    119.127591\n",
              "min     1984.000000        0.600000      2.000000      7.000000     29.000000\n",
              "25%     1991.000000        2.200000      4.000000     17.000000    389.000000\n",
              "50%     2001.000000        3.000000      6.000000     19.000000    467.736842\n",
              "75%     2010.000000        4.300000      6.000000     23.000000    553.000000\n",
              "max     2018.000000        8.400000     16.000000     58.000000   1269.571429"
            ]
          },
          "metadata": {},
          "execution_count": 6
        }
      ]
    },
    {
      "cell_type": "markdown",
      "metadata": {
        "id": "85trTUdO1BFk"
      },
      "source": [
        "### Records duplicados"
      ]
    },
    {
      "cell_type": "markdown",
      "metadata": {
        "id": "GE8139IB1BFl"
      },
      "source": [
        "Usamos la función de pandas `drop_duplicates` para remover los records duplicados"
      ]
    },
    {
      "cell_type": "code",
      "metadata": {
        "id": "OFUqFzDp1BFl"
      },
      "source": [
        "vehiculos = vehiculos.drop_duplicates()"
      ],
      "execution_count": null,
      "outputs": []
    },
    {
      "cell_type": "code",
      "metadata": {
        "colab": {
          "base_uri": "https://localhost:8080/"
        },
        "id": "P9gdoqGe1BFl",
        "outputId": "8b89e7cd-59d3-41d7-f7df-66d08dc6999d"
      },
      "source": [
        "vehiculos.shape"
      ],
      "execution_count": null,
      "outputs": [
        {
          "output_type": "execute_result",
          "data": {
            "text/plain": [
              "(36791, 11)"
            ]
          },
          "metadata": {},
          "execution_count": 9
        }
      ]
    },
    {
      "cell_type": "code",
      "metadata": {
        "colab": {
          "base_uri": "https://localhost:8080/"
        },
        "id": "Q4Bu3QsR7U_k",
        "outputId": "685db69d-a963-49e7-cfd0-1c9f922a8c9f"
      },
      "source": [
        "38297 - 36791\n",
        "#fila1 -> 1 2 3\n",
        "#fila2 -> 4 5 6\n",
        "#fila3 -> 1 2 3\n",
        "\n",
        "#fila1 -> 1 2 3\n",
        "#fila2 -> 4 5 6"
      ],
      "execution_count": null,
      "outputs": [
        {
          "output_type": "execute_result",
          "data": {
            "text/plain": [
              "1506"
            ]
          },
          "metadata": {},
          "execution_count": 10
        }
      ]
    },
    {
      "cell_type": "markdown",
      "metadata": {
        "id": "i1T7NlZI1BFm"
      },
      "source": [
        "### Valores Extremos (outliers)"
      ]
    },
    {
      "cell_type": "code",
      "metadata": {
        "scrolled": true,
        "colab": {
          "base_uri": "https://localhost:8080/"
        },
        "id": "5a_bLOqB1BFm",
        "outputId": "762ba38b-28e3-48e3-fbf4-4d08e9a76086"
      },
      "source": [
        "from scipy import stats\n",
        "import numpy as np\n",
        "\n",
        "def outliers_col(df):\n",
        "    for columna in df:\n",
        "        if df[columna].dtype != np.object:\n",
        "            n_outliers = len(df[np.abs(stats.zscore(df[columna])) > 3])    \n",
        "            print(\"{} | {} | {}\".format(\n",
        "                df[columna].name,\n",
        "                n_outliers,\n",
        "                df[columna].dtype\n",
        "        ))\n",
        "\n",
        "outliers_col(vehiculos)"
      ],
      "execution_count": null,
      "outputs": [
        {
          "output_type": "stream",
          "name": "stdout",
          "text": [
            "year | 0 | int64\n",
            "desplazamiento | 0 | float64\n",
            "cilindros | 0 | float64\n",
            "consumo | 400 | int64\n",
            "co2 | 221 | float64\n"
          ]
        }
      ]
    },
    {
      "cell_type": "code",
      "metadata": {
        "colab": {
          "base_uri": "https://localhost:8080/",
          "height": 294
        },
        "id": "i9wxhvtS1BFm",
        "outputId": "edb921c4-5979-404f-ef4d-fa190205b715"
      },
      "source": [
        "vehiculos.describe()"
      ],
      "execution_count": null,
      "outputs": [
        {
          "output_type": "execute_result",
          "data": {
            "text/html": [
              "<div>\n",
              "<style scoped>\n",
              "    .dataframe tbody tr th:only-of-type {\n",
              "        vertical-align: middle;\n",
              "    }\n",
              "\n",
              "    .dataframe tbody tr th {\n",
              "        vertical-align: top;\n",
              "    }\n",
              "\n",
              "    .dataframe thead th {\n",
              "        text-align: right;\n",
              "    }\n",
              "</style>\n",
              "<table border=\"1\" class=\"dataframe\">\n",
              "  <thead>\n",
              "    <tr style=\"text-align: right;\">\n",
              "      <th></th>\n",
              "      <th>year</th>\n",
              "      <th>desplazamiento</th>\n",
              "      <th>cilindros</th>\n",
              "      <th>consumo</th>\n",
              "      <th>co2</th>\n",
              "    </tr>\n",
              "  </thead>\n",
              "  <tbody>\n",
              "    <tr>\n",
              "      <th>count</th>\n",
              "      <td>36791.000000</td>\n",
              "      <td>36789.000000</td>\n",
              "      <td>36788.000000</td>\n",
              "      <td>36791.000000</td>\n",
              "      <td>36791.000000</td>\n",
              "    </tr>\n",
              "    <tr>\n",
              "      <th>mean</th>\n",
              "      <td>2000.787421</td>\n",
              "      <td>3.321786</td>\n",
              "      <td>5.746493</td>\n",
              "      <td>20.012068</td>\n",
              "      <td>473.185008</td>\n",
              "    </tr>\n",
              "    <tr>\n",
              "      <th>std</th>\n",
              "      <td>10.374662</td>\n",
              "      <td>1.359945</td>\n",
              "      <td>1.758009</td>\n",
              "      <td>5.109608</td>\n",
              "      <td>118.833905</td>\n",
              "    </tr>\n",
              "    <tr>\n",
              "      <th>min</th>\n",
              "      <td>1984.000000</td>\n",
              "      <td>0.600000</td>\n",
              "      <td>2.000000</td>\n",
              "      <td>7.000000</td>\n",
              "      <td>29.000000</td>\n",
              "    </tr>\n",
              "    <tr>\n",
              "      <th>25%</th>\n",
              "      <td>1991.000000</td>\n",
              "      <td>2.200000</td>\n",
              "      <td>4.000000</td>\n",
              "      <td>17.000000</td>\n",
              "      <td>386.391304</td>\n",
              "    </tr>\n",
              "    <tr>\n",
              "      <th>50%</th>\n",
              "      <td>2002.000000</td>\n",
              "      <td>3.000000</td>\n",
              "      <td>6.000000</td>\n",
              "      <td>19.000000</td>\n",
              "      <td>466.000000</td>\n",
              "    </tr>\n",
              "    <tr>\n",
              "      <th>75%</th>\n",
              "      <td>2010.000000</td>\n",
              "      <td>4.300000</td>\n",
              "      <td>6.000000</td>\n",
              "      <td>23.000000</td>\n",
              "      <td>555.437500</td>\n",
              "    </tr>\n",
              "    <tr>\n",
              "      <th>max</th>\n",
              "      <td>2018.000000</td>\n",
              "      <td>8.400000</td>\n",
              "      <td>16.000000</td>\n",
              "      <td>58.000000</td>\n",
              "      <td>1269.571429</td>\n",
              "    </tr>\n",
              "  </tbody>\n",
              "</table>\n",
              "</div>"
            ],
            "text/plain": [
              "               year  desplazamiento     cilindros       consumo           co2\n",
              "count  36791.000000    36789.000000  36788.000000  36791.000000  36791.000000\n",
              "mean    2000.787421        3.321786      5.746493     20.012068    473.185008\n",
              "std       10.374662        1.359945      1.758009      5.109608    118.833905\n",
              "min     1984.000000        0.600000      2.000000      7.000000     29.000000\n",
              "25%     1991.000000        2.200000      4.000000     17.000000    386.391304\n",
              "50%     2002.000000        3.000000      6.000000     19.000000    466.000000\n",
              "75%     2010.000000        4.300000      6.000000     23.000000    555.437500\n",
              "max     2018.000000        8.400000     16.000000     58.000000   1269.571429"
            ]
          },
          "metadata": {},
          "execution_count": 12
        }
      ]
    },
    {
      "cell_type": "code",
      "metadata": {
        "colab": {
          "base_uri": "https://localhost:8080/"
        },
        "id": "imX42zd21BFn",
        "outputId": "295b9173-c233-4541-fe91-fce0bbde8703"
      },
      "source": [
        "consumo_min = vehiculos.consumo.mean() - 3*vehiculos.consumo.std()\n",
        "consumo_max = vehiculos.consumo.mean() + 3*vehiculos.consumo.std()\n",
        "print(consumo_min, consumo_max)\n",
        "\n",
        "co2_min = vehiculos.co2.mean() - 3*vehiculos.co2.std()\n",
        "co2_max = vehiculos.co2.mean() + 3*vehiculos.co2.std()\n",
        "print(co2_min, co2_max)"
      ],
      "execution_count": null,
      "outputs": [
        {
          "output_type": "stream",
          "name": "stdout",
          "text": [
            "4.6832452329136025 35.34089110477768\n",
            "116.68329326817047 829.6867227313555\n"
          ]
        }
      ]
    },
    {
      "cell_type": "code",
      "metadata": {
        "id": "-MddvwsT1BFn"
      },
      "source": [
        "vehiculos = vehiculos[\n",
        "    (np.abs(stats.zscore(vehiculos.consumo)) < 3)  & \\\n",
        "    (np.abs(stats.zscore(vehiculos.co2)) < 3)\n",
        "]"
      ],
      "execution_count": null,
      "outputs": []
    },
    {
      "cell_type": "code",
      "metadata": {
        "colab": {
          "base_uri": "https://localhost:8080/"
        },
        "id": "e7pHnhgN1BFn",
        "outputId": "de2b1e78-2ccc-477b-9337-0a8a5aae0018"
      },
      "source": [
        "vehiculos.shape"
      ],
      "execution_count": null,
      "outputs": [
        {
          "output_type": "execute_result",
          "data": {
            "text/plain": [
              "(36185, 11)"
            ]
          },
          "metadata": {},
          "execution_count": 15
        }
      ]
    },
    {
      "cell_type": "code",
      "metadata": {
        "colab": {
          "base_uri": "https://localhost:8080/",
          "height": 294
        },
        "id": "4hYBA5161BFo",
        "outputId": "40fac23a-493e-494b-c922-44f60ac3f67b"
      },
      "source": [
        "vehiculos.describe()"
      ],
      "execution_count": null,
      "outputs": [
        {
          "output_type": "execute_result",
          "data": {
            "text/html": [
              "<div>\n",
              "<style scoped>\n",
              "    .dataframe tbody tr th:only-of-type {\n",
              "        vertical-align: middle;\n",
              "    }\n",
              "\n",
              "    .dataframe tbody tr th {\n",
              "        vertical-align: top;\n",
              "    }\n",
              "\n",
              "    .dataframe thead th {\n",
              "        text-align: right;\n",
              "    }\n",
              "</style>\n",
              "<table border=\"1\" class=\"dataframe\">\n",
              "  <thead>\n",
              "    <tr style=\"text-align: right;\">\n",
              "      <th></th>\n",
              "      <th>year</th>\n",
              "      <th>desplazamiento</th>\n",
              "      <th>cilindros</th>\n",
              "      <th>consumo</th>\n",
              "      <th>co2</th>\n",
              "    </tr>\n",
              "  </thead>\n",
              "  <tbody>\n",
              "    <tr>\n",
              "      <th>count</th>\n",
              "      <td>36185.000000</td>\n",
              "      <td>36183.000000</td>\n",
              "      <td>36182.000000</td>\n",
              "      <td>36185.000000</td>\n",
              "      <td>36185.000000</td>\n",
              "    </tr>\n",
              "    <tr>\n",
              "      <th>mean</th>\n",
              "      <td>2000.799281</td>\n",
              "      <td>3.326051</td>\n",
              "      <td>5.750290</td>\n",
              "      <td>19.842366</td>\n",
              "      <td>473.442286</td>\n",
              "    </tr>\n",
              "    <tr>\n",
              "      <th>std</th>\n",
              "      <td>10.342556</td>\n",
              "      <td>1.340777</td>\n",
              "      <td>1.733438</td>\n",
              "      <td>4.587177</td>\n",
              "      <td>110.906946</td>\n",
              "    </tr>\n",
              "    <tr>\n",
              "      <th>min</th>\n",
              "      <td>1984.000000</td>\n",
              "      <td>0.900000</td>\n",
              "      <td>2.000000</td>\n",
              "      <td>9.000000</td>\n",
              "      <td>144.000000</td>\n",
              "    </tr>\n",
              "    <tr>\n",
              "      <th>25%</th>\n",
              "      <td>1991.000000</td>\n",
              "      <td>2.200000</td>\n",
              "      <td>4.000000</td>\n",
              "      <td>17.000000</td>\n",
              "      <td>394.000000</td>\n",
              "    </tr>\n",
              "    <tr>\n",
              "      <th>50%</th>\n",
              "      <td>2002.000000</td>\n",
              "      <td>3.000000</td>\n",
              "      <td>6.000000</td>\n",
              "      <td>19.000000</td>\n",
              "      <td>467.736842</td>\n",
              "    </tr>\n",
              "    <tr>\n",
              "      <th>75%</th>\n",
              "      <td>2010.000000</td>\n",
              "      <td>4.300000</td>\n",
              "      <td>6.000000</td>\n",
              "      <td>23.000000</td>\n",
              "      <td>552.000000</td>\n",
              "    </tr>\n",
              "    <tr>\n",
              "      <th>max</th>\n",
              "      <td>2018.000000</td>\n",
              "      <td>8.400000</td>\n",
              "      <td>12.000000</td>\n",
              "      <td>35.000000</td>\n",
              "      <td>829.000000</td>\n",
              "    </tr>\n",
              "  </tbody>\n",
              "</table>\n",
              "</div>"
            ],
            "text/plain": [
              "               year  desplazamiento     cilindros       consumo           co2\n",
              "count  36185.000000    36183.000000  36182.000000  36185.000000  36185.000000\n",
              "mean    2000.799281        3.326051      5.750290     19.842366    473.442286\n",
              "std       10.342556        1.340777      1.733438      4.587177    110.906946\n",
              "min     1984.000000        0.900000      2.000000      9.000000    144.000000\n",
              "25%     1991.000000        2.200000      4.000000     17.000000    394.000000\n",
              "50%     2002.000000        3.000000      6.000000     19.000000    467.736842\n",
              "75%     2010.000000        4.300000      6.000000     23.000000    552.000000\n",
              "max     2018.000000        8.400000     12.000000     35.000000    829.000000"
            ]
          },
          "metadata": {},
          "execution_count": 16
        }
      ]
    },
    {
      "cell_type": "markdown",
      "metadata": {
        "id": "wGMVLQim1BFo"
      },
      "source": [
        "Vemos que aunque hemos removido los outliers, al haber cambiado la distribución del dataset se generan nuevos outliers"
      ]
    },
    {
      "cell_type": "code",
      "metadata": {
        "colab": {
          "base_uri": "https://localhost:8080/"
        },
        "id": "_p8VkLSa1BFo",
        "outputId": "b53a2cab-0a9a-4b2e-b07e-053422d233fc"
      },
      "source": [
        "outliers_col(vehiculos)"
      ],
      "execution_count": null,
      "outputs": [
        {
          "output_type": "stream",
          "name": "stdout",
          "text": [
            "year | 0 | int64\n",
            "desplazamiento | 0 | float64\n",
            "cilindros | 0 | float64\n",
            "consumo | 213 | int64\n",
            "co2 | 424 | float64\n"
          ]
        }
      ]
    },
    {
      "cell_type": "markdown",
      "metadata": {
        "id": "PlG3ey551BFo"
      },
      "source": [
        "Para eliminar esto simplemente repetimos el proceso hasta que no queden valores extremos"
      ]
    },
    {
      "cell_type": "code",
      "metadata": {
        "colab": {
          "base_uri": "https://localhost:8080/"
        },
        "id": "5IhC7Gdk1BFo",
        "outputId": "797d2fd5-9f40-4209-c91d-d7984b14b4ef"
      },
      "source": [
        "vehiculos = vehiculos[\n",
        "    (np.abs(stats.zscore(vehiculos.consumo)) < 3)  & \\\n",
        "    (np.abs(stats.zscore(vehiculos.co2)) < 3)\n",
        "]\n",
        "\n",
        "outliers_col(vehiculos)\n",
        "vehiculos.shape"
      ],
      "execution_count": null,
      "outputs": [
        {
          "output_type": "stream",
          "name": "stdout",
          "text": [
            "year | 0 | int64\n",
            "desplazamiento | 0 | float64\n",
            "cilindros | 0 | float64\n",
            "consumo | 0 | int64\n",
            "co2 | 9 | float64\n"
          ]
        },
        {
          "output_type": "execute_result",
          "data": {
            "text/plain": [
              "(35548, 11)"
            ]
          },
          "metadata": {},
          "execution_count": 18
        }
      ]
    },
    {
      "cell_type": "code",
      "metadata": {
        "colab": {
          "base_uri": "https://localhost:8080/"
        },
        "id": "Q2BOiSnj1BFp",
        "outputId": "a1d65712-52fc-48c3-e3f4-4c97f03ca30d"
      },
      "source": [
        "vehiculos = vehiculos[\n",
        "    (np.abs(stats.zscore(vehiculos.consumo)) < 3)  & \\\n",
        "    (np.abs(stats.zscore(vehiculos.co2)) < 3)\n",
        "]\n",
        "\n",
        "outliers_col(vehiculos)\n",
        "vehiculos.shape"
      ],
      "execution_count": null,
      "outputs": [
        {
          "output_type": "stream",
          "name": "stdout",
          "text": [
            "year | 0 | int64\n",
            "desplazamiento | 0 | float64\n",
            "cilindros | 0 | float64\n",
            "consumo | 0 | int64\n",
            "co2 | 0 | float64\n"
          ]
        },
        {
          "output_type": "execute_result",
          "data": {
            "text/plain": [
              "(35539, 11)"
            ]
          },
          "metadata": {},
          "execution_count": 19
        }
      ]
    },
    {
      "cell_type": "markdown",
      "metadata": {
        "id": "LIWkdRlY1BFp"
      },
      "source": [
        "### Valores inexistentes"
      ]
    },
    {
      "cell_type": "code",
      "metadata": {
        "colab": {
          "base_uri": "https://localhost:8080/"
        },
        "id": "KBwXU2NQ1BFp",
        "outputId": "dcfd0835-1702-4b35-f906-a2daa5d9cf84"
      },
      "source": [
        "n_records = len(vehiculos)\n",
        "def valores_inexistentes_col(df):\n",
        "    for columna in df:\n",
        "        print(\"{} | {} | {}\".format(\n",
        "            df[columna].name, len(df[df[columna].isnull()]) / (1.0*n_records), df[columna].dtype\n",
        "        ))\n",
        "\n",
        "valores_inexistentes_col(vehiculos)"
      ],
      "execution_count": null,
      "outputs": [
        {
          "output_type": "stream",
          "name": "stdout",
          "text": [
            "fabricante | 0.0 | object\n",
            "modelo | 0.0 | object\n",
            "year | 0.0 | int64\n",
            "desplazamiento | 5.627620360730465e-05 | float64\n",
            "cilindros | 8.441430541095698e-05 | float64\n",
            "transmision | 2.8138101803652325e-05 | object\n",
            "traccion | 0.02093474774191733 | object\n",
            "clase | 0.0 | object\n",
            "combustible | 0.0 | object\n",
            "consumo | 0.0 | int64\n",
            "co2 | 0.0 | float64\n"
          ]
        }
      ]
    },
    {
      "cell_type": "markdown",
      "metadata": {
        "id": "z-WAcyuY1BFp"
      },
      "source": [
        "Muchos algoritmos de Machine Learning requieren que no existan valores inexistentes (o NaN como se llaman a veces).\n",
        "\n",
        "Hay varias técnicas para tratar dichos valores:"
      ]
    },
    {
      "cell_type": "markdown",
      "metadata": {
        "id": "InScWswJ1BFp"
      },
      "source": [
        "1. eliminar records con valores inexistentes"
      ]
    },
    {
      "cell_type": "code",
      "metadata": {
        "colab": {
          "base_uri": "https://localhost:8080/"
        },
        "id": "XIiTgKq01BFp",
        "outputId": "4a808c14-1029-4361-dd6a-999875946251"
      },
      "source": [
        "vehiculos_sin_null = vehiculos.dropna(subset=[\"transmision\", \"desplazamiento\", \"cilindros\"])\n",
        "\n",
        "vehiculos_sin_null.shape"
      ],
      "execution_count": null,
      "outputs": [
        {
          "output_type": "execute_result",
          "data": {
            "text/plain": [
              "(35535, 11)"
            ]
          },
          "metadata": {},
          "execution_count": 22
        }
      ]
    },
    {
      "cell_type": "code",
      "metadata": {
        "colab": {
          "base_uri": "https://localhost:8080/"
        },
        "id": "_L2fsqPF1BFq",
        "outputId": "f7c763b8-1b35-4152-80f7-97d4e2d755fa"
      },
      "source": [
        "35539 - 35535"
      ],
      "execution_count": null,
      "outputs": [
        {
          "output_type": "execute_result",
          "data": {
            "text/plain": [
              "4"
            ]
          },
          "metadata": {},
          "execution_count": 23
        }
      ]
    },
    {
      "cell_type": "markdown",
      "metadata": {
        "id": "JWFx6SH81BFq"
      },
      "source": [
        "2.Reemplazar los valores inexistentes con un valor en particular. Por ejemplo 0 o \"null\" Es una forma simple de tratar estos valores pero añade un monton de ruido (asume que los valores inexistentes lo son por un motivo en concreto)"
      ]
    },
    {
      "cell_type": "code",
      "metadata": {
        "colab": {
          "base_uri": "https://localhost:8080/"
        },
        "id": "AMJoEQhy1BFq",
        "outputId": "c0882463-2fdd-4ab7-da92-dc971125220b"
      },
      "source": [
        "vehiculos[\"transmision_imp\"] = vehiculos.transmision.fillna(\"sin transmision\")\n",
        "vehiculos[\"desplazamiento_imp\"] = vehiculos.desplazamiento.fillna(0)\n",
        "vehiculos[\"cilindros_imp\"] = vehiculos.cilindros.fillna(0)\n",
        "\n",
        "vehiculos.shape"
      ],
      "execution_count": null,
      "outputs": [
        {
          "output_type": "execute_result",
          "data": {
            "text/plain": [
              "(35539, 14)"
            ]
          },
          "metadata": {},
          "execution_count": 24
        }
      ]
    },
    {
      "cell_type": "markdown",
      "metadata": {
        "id": "rhHytT9t1BFq"
      },
      "source": [
        "3.\n",
        "Imputacion de datos: Reemplazar los valores inexistentes por un valor en particular, pero que está elegido con cierto criterio. Prácticas comunes de imputacion de datos son reemplazar los valores inexistentes de una variable con su media, moda o mediana."
      ]
    },
    {
      "cell_type": "code",
      "metadata": {
        "id": "yxbqWGaY1BFq"
      },
      "source": [
        "transmision_moda = vehiculos.transmision.mode().values[0]\n",
        "cilindros_moda = vehiculos.cilindros.mode().values[0]\n",
        "desplazamiento_mediana = vehiculos.desplazamiento.median()\n",
        "\n",
        "vehiculos.transmision = vehiculos.transmision.fillna(transmision_moda)\n",
        "vehiculos.desplazamiento = vehiculos.desplazamiento.fillna(desplazamiento_mediana)\n",
        "vehiculos.cilindros = vehiculos.cilindros.fillna(cilindros_moda)"
      ],
      "execution_count": null,
      "outputs": []
    },
    {
      "cell_type": "code",
      "metadata": {
        "colab": {
          "base_uri": "https://localhost:8080/",
          "height": 149
        },
        "id": "DXjhgJ2X1BFr",
        "outputId": "7dfe01e4-4503-481b-d4fe-acec3956a599"
      },
      "source": [
        "vehiculos[vehiculos.transmision_imp==\"sin transmision\"]"
      ],
      "execution_count": null,
      "outputs": [
        {
          "output_type": "execute_result",
          "data": {
            "text/html": [
              "<div>\n",
              "<style scoped>\n",
              "    .dataframe tbody tr th:only-of-type {\n",
              "        vertical-align: middle;\n",
              "    }\n",
              "\n",
              "    .dataframe tbody tr th {\n",
              "        vertical-align: top;\n",
              "    }\n",
              "\n",
              "    .dataframe thead th {\n",
              "        text-align: right;\n",
              "    }\n",
              "</style>\n",
              "<table border=\"1\" class=\"dataframe\">\n",
              "  <thead>\n",
              "    <tr style=\"text-align: right;\">\n",
              "      <th></th>\n",
              "      <th>fabricante</th>\n",
              "      <th>modelo</th>\n",
              "      <th>year</th>\n",
              "      <th>desplazamiento</th>\n",
              "      <th>cilindros</th>\n",
              "      <th>transmision</th>\n",
              "      <th>traccion</th>\n",
              "      <th>clase</th>\n",
              "      <th>combustible</th>\n",
              "      <th>consumo</th>\n",
              "      <th>co2</th>\n",
              "      <th>transmision_imp</th>\n",
              "      <th>desplazamiento_imp</th>\n",
              "      <th>cilindros_imp</th>\n",
              "    </tr>\n",
              "  </thead>\n",
              "  <tbody>\n",
              "    <tr>\n",
              "      <th>15458</th>\n",
              "      <td>GMC</td>\n",
              "      <td>C25 Pickup 2WD</td>\n",
              "      <td>1984</td>\n",
              "      <td>4.1</td>\n",
              "      <td>6.0</td>\n",
              "      <td>Automatic 4-spd</td>\n",
              "      <td>2-Wheel Drive</td>\n",
              "      <td>Standard Pickup Trucks 2WD</td>\n",
              "      <td>Regular</td>\n",
              "      <td>14</td>\n",
              "      <td>634.785714</td>\n",
              "      <td>sin transmision</td>\n",
              "      <td>4.1</td>\n",
              "      <td>6.0</td>\n",
              "    </tr>\n",
              "  </tbody>\n",
              "</table>\n",
              "</div>"
            ],
            "text/plain": [
              "      fabricante          modelo  ...  desplazamiento_imp  cilindros_imp\n",
              "15458        GMC  C25 Pickup 2WD  ...                 4.1            6.0\n",
              "\n",
              "[1 rows x 14 columns]"
            ]
          },
          "metadata": {},
          "execution_count": 26
        }
      ]
    },
    {
      "cell_type": "code",
      "metadata": {
        "id": "NJEbmNo-1BFr"
      },
      "source": [
        "vehiculos = vehiculos.drop([\"transmision_imp\", \"cilindros_imp\", \"desplazamiento_imp\"], \n",
        "                           axis=1)"
      ],
      "execution_count": null,
      "outputs": []
    },
    {
      "cell_type": "code",
      "metadata": {
        "colab": {
          "base_uri": "https://localhost:8080/"
        },
        "id": "Z9nd-x701BFr",
        "outputId": "09cde299-85c4-4899-dafa-295d8a875f23"
      },
      "source": [
        "vehiculos.columns"
      ],
      "execution_count": null,
      "outputs": [
        {
          "output_type": "execute_result",
          "data": {
            "text/plain": [
              "Index(['fabricante', 'modelo', 'year', 'desplazamiento', 'cilindros',\n",
              "       'transmision', 'traccion', 'clase', 'combustible', 'consumo', 'co2'],\n",
              "      dtype='object')"
            ]
          },
          "metadata": {},
          "execution_count": 29
        }
      ]
    },
    {
      "cell_type": "markdown",
      "metadata": {
        "id": "-skK_x3m1BFr"
      },
      "source": [
        "Otras técnicas incluyen:\n",
        "\n",
        "\n",
        "- Usar un modelo predictivo para predecir los valores inexistentes, usando como informacion los records con la informacion completa\n",
        "\n",
        "- Metodos más sofisticados: [MICE](https://www.ncbi.nlm.nih.gov/pmc/articles/PMC3074241/), en este [repositorio](https://github.com/hammerlab/fancyimpute) hay mas métodos\n",
        "\n",
        "[Aqui](https://gallery.cortanaintelligence.com/Experiment/Methods-for-handling-missing-values-1) hay mas estrategias"
      ]
    },
    {
      "cell_type": "markdown",
      "metadata": {
        "id": "jxj6xvQl1BFr"
      },
      "source": [
        "### Normalizacion/Estandardizacion de variables"
      ]
    },
    {
      "cell_type": "markdown",
      "metadata": {
        "id": "54cFwxKT1BFr"
      },
      "source": [
        "Hay dos formas en las cuales un dataset puede tener variables que haya que modificar pese a que no sean nulas/repetidas"
      ]
    },
    {
      "cell_type": "markdown",
      "metadata": {
        "id": "M361fZMm1BFs"
      },
      "source": [
        "Generalmente en un dataset las variables van a tener rangos muy distintos"
      ]
    },
    {
      "cell_type": "code",
      "metadata": {
        "colab": {
          "base_uri": "https://localhost:8080/",
          "height": 294
        },
        "id": "dEHtmzn11BFs",
        "outputId": "e3a41f74-f27e-4f3d-8f50-c9c584bd8e6f"
      },
      "source": [
        "vehiculos.describe()"
      ],
      "execution_count": null,
      "outputs": [
        {
          "output_type": "execute_result",
          "data": {
            "text/html": [
              "<div>\n",
              "<style scoped>\n",
              "    .dataframe tbody tr th:only-of-type {\n",
              "        vertical-align: middle;\n",
              "    }\n",
              "\n",
              "    .dataframe tbody tr th {\n",
              "        vertical-align: top;\n",
              "    }\n",
              "\n",
              "    .dataframe thead th {\n",
              "        text-align: right;\n",
              "    }\n",
              "</style>\n",
              "<table border=\"1\" class=\"dataframe\">\n",
              "  <thead>\n",
              "    <tr style=\"text-align: right;\">\n",
              "      <th></th>\n",
              "      <th>year</th>\n",
              "      <th>desplazamiento</th>\n",
              "      <th>cilindros</th>\n",
              "      <th>consumo</th>\n",
              "      <th>co2</th>\n",
              "    </tr>\n",
              "  </thead>\n",
              "  <tbody>\n",
              "    <tr>\n",
              "      <th>count</th>\n",
              "      <td>35539.000000</td>\n",
              "      <td>35539.000000</td>\n",
              "      <td>35539.000000</td>\n",
              "      <td>35539.000000</td>\n",
              "      <td>35539.000000</td>\n",
              "    </tr>\n",
              "    <tr>\n",
              "      <th>mean</th>\n",
              "      <td>2000.893188</td>\n",
              "      <td>3.308585</td>\n",
              "      <td>5.727426</td>\n",
              "      <td>19.863277</td>\n",
              "      <td>470.607342</td>\n",
              "    </tr>\n",
              "    <tr>\n",
              "      <th>std</th>\n",
              "      <td>10.308730</td>\n",
              "      <td>1.318233</td>\n",
              "      <td>1.705600</td>\n",
              "      <td>4.383492</td>\n",
              "      <td>104.425820</td>\n",
              "    </tr>\n",
              "    <tr>\n",
              "      <th>min</th>\n",
              "      <td>1984.000000</td>\n",
              "      <td>1.000000</td>\n",
              "      <td>2.000000</td>\n",
              "      <td>10.000000</td>\n",
              "      <td>169.000000</td>\n",
              "    </tr>\n",
              "    <tr>\n",
              "      <th>25%</th>\n",
              "      <td>1991.000000</td>\n",
              "      <td>2.200000</td>\n",
              "      <td>4.000000</td>\n",
              "      <td>17.000000</td>\n",
              "      <td>396.000000</td>\n",
              "    </tr>\n",
              "    <tr>\n",
              "      <th>50%</th>\n",
              "      <td>2002.000000</td>\n",
              "      <td>3.000000</td>\n",
              "      <td>6.000000</td>\n",
              "      <td>19.000000</td>\n",
              "      <td>465.000000</td>\n",
              "    </tr>\n",
              "    <tr>\n",
              "      <th>75%</th>\n",
              "      <td>2010.000000</td>\n",
              "      <td>4.300000</td>\n",
              "      <td>6.000000</td>\n",
              "      <td>23.000000</td>\n",
              "      <td>525.000000</td>\n",
              "    </tr>\n",
              "    <tr>\n",
              "      <th>max</th>\n",
              "      <td>2018.000000</td>\n",
              "      <td>8.400000</td>\n",
              "      <td>12.000000</td>\n",
              "      <td>33.000000</td>\n",
              "      <td>782.000000</td>\n",
              "    </tr>\n",
              "  </tbody>\n",
              "</table>\n",
              "</div>"
            ],
            "text/plain": [
              "               year  desplazamiento     cilindros       consumo           co2\n",
              "count  35539.000000    35539.000000  35539.000000  35539.000000  35539.000000\n",
              "mean    2000.893188        3.308585      5.727426     19.863277    470.607342\n",
              "std       10.308730        1.318233      1.705600      4.383492    104.425820\n",
              "min     1984.000000        1.000000      2.000000     10.000000    169.000000\n",
              "25%     1991.000000        2.200000      4.000000     17.000000    396.000000\n",
              "50%     2002.000000        3.000000      6.000000     19.000000    465.000000\n",
              "75%     2010.000000        4.300000      6.000000     23.000000    525.000000\n",
              "max     2018.000000        8.400000     12.000000     33.000000    782.000000"
            ]
          },
          "metadata": {},
          "execution_count": 30
        }
      ]
    },
    {
      "cell_type": "markdown",
      "metadata": {
        "id": "mrULj4nK1BFs"
      },
      "source": [
        "Por ejemplo, vemos que la variable displ tiene un rango de [0,8.4], mientras que la variable `co2` tiene un rango [0. 1270]. Al aplicar ciertos tipos de modelos lo que va a pasar es que la variable `co2` va a tener mucho mas peso simplemente por que los valores que toma son más grandes."
      ]
    },
    {
      "cell_type": "markdown",
      "metadata": {
        "id": "8Di_2u3T1BFs"
      },
      "source": [
        "De igual forma, hay variables donde la variación de los datos es muy grande, y esto hace que para ciertos modelos sea mas dificil el aprender reglas consistentes. Por ejemplo, la variable `desplazamiento`"
      ]
    },
    {
      "cell_type": "markdown",
      "metadata": {
        "id": "O27Jk8tq1BFs"
      },
      "source": [
        "**Normalización**\n",
        "\n",
        "[Normalización](https://es.wikipedia.org/wiki/Normalizaci%C3%B3n_(estad%C3%ADstica)) (también llamada *min-max scaling*)\n",
        "\n",
        "Normalización convierte una variable numérica con un rango cualquiera a un rango [0, 1]. Muchos modelos de `deep learning` exigen esto como requisito."
      ]
    },
    {
      "cell_type": "code",
      "metadata": {
        "colab": {
          "base_uri": "https://localhost:8080/",
          "height": 269
        },
        "id": "A5RZlJ7Q1BFs",
        "outputId": "4c14cbdf-a329-4102-eabd-0b7e4cd1cb6c"
      },
      "source": [
        "desplazamiento_x_min = vehiculos.desplazamiento.min()\n",
        "desplazamiento_x_max = vehiculos.desplazamiento.max()\n",
        "\n",
        "desplazamiento_original = vehiculos.desplazamiento\n",
        "desplazamiento_normalizado = desplazamiento_original.apply(lambda x: (x-desplazamiento_x_min) / (desplazamiento_x_max - desplazamiento_x_min))\n",
        "\n",
        "desplazamiento_normalizado.plot.hist(label=\"normalizado\")\n",
        "desplazamiento_original.plot.hist(label=\"original\")\n",
        "plt.legend();"
      ],
      "execution_count": null,
      "outputs": [
        {
          "output_type": "display_data",
          "data": {
            "image/png": "[encoded data removed]",
            "text/plain": [
              "<Figure size 432x288 with 1 Axes>"
            ]
          },
          "metadata": {
            "needs_background": "light"
          }
        }
      ]
    },
    {
      "cell_type": "markdown",
      "metadata": {
        "id": "rdw7eW3a1BFs"
      },
      "source": [
        "**Estandarización**"
      ]
    },
    {
      "cell_type": "markdown",
      "metadata": {
        "id": "TMvRqHCo1BFs"
      },
      "source": [
        "El objetivo de la estandardización es reescalar la variable a una distribución con media 0 y desviación estándar 1.\n",
        "\n",
        "Muchos algoritmos necesitan que todas las variables tengan una distribución normal. De hecho, [la librería principal](http://scikit-learn.org/stable/modules/preprocessing.html#standardization-or-mean-removal-and-variance-scaling) que vamos a usar para Machine Learning lo especifica en su documentación.\n",
        "\n",
        "Estandarizar se puede realizar fácilmente convirtiendo cada valor a su puntuación Z, con la formula:\n",
        "\n",
        "$$\\frac{y-\\mu}{\\sigma}$$"
      ]
    },
    {
      "cell_type": "code",
      "metadata": {
        "colab": {
          "base_uri": "https://localhost:8080/",
          "height": 269
        },
        "id": "A-yB4sSa1BFs",
        "outputId": "248f9e17-86c9-455f-86ea-34dd7e604ccf"
      },
      "source": [
        "desplazamiento_mu = vehiculos.desplazamiento.mean()\n",
        "desplazamiento_sigma = vehiculos.desplazamiento.std()\n",
        "\n",
        "desplazamiento_estandarizado = desplazamiento_original.apply(lambda x: (x-desplazamiento_mu) / desplazamiento_sigma)\n",
        "\n",
        "desplazamiento_estandarizado.plot.hist(label=\"standardizado\", alpha=0.5)\n",
        "desplazamiento_original.plot.hist(label=\"original\", alpha=0.5)\n",
        "plt.legend();"
      ],
      "execution_count": null,
      "outputs": [
        {
          "output_type": "display_data",
          "data": {
            "image/png": "[encoded data removed]",
            "text/plain": [
              "<Figure size 432x288 with 1 Axes>"
            ]
          },
          "metadata": {
            "needs_background": "light"
          }
        }
      ]
    },
    {
      "cell_type": "markdown",
      "metadata": {
        "id": "FCHFj1i91BFs"
      },
      "source": [
        "En cuanto a cuando elegir normalización o estandarización, esta decisión está sujeta a debate.\n",
        "\n",
        "Si los algoritmos que se desea usar requieren una estructura de los datos concreta, entonces no hay que tomar una decisión, simplemente seguir los requisitos de dicho algoritmo.\n",
        "\n",
        "Un problema que tiene la normalización es que la distancia absoluta entre los valores del dataset al agruparlos todos en un grupo tan pequeño. Por lo tanto si los datos varían mucho es mejor probar a estandarizar primero en vez de normalizar. No obstante no es mala idea el probar ambos procesos y ver cual da mejores resultados."
      ]
    },
    {
      "cell_type": "markdown",
      "metadata": {
        "id": "nEtVLOMZ1BFt"
      },
      "source": [
        "Por ejemplo, vamos a hacer un gráfico de dispersión para ver la comparación de las variables `displ` (desplazamiento del motor) y `comb08` (consumo de combustible) en funcion de si están normalizadas o estandarizadas."
      ]
    },
    {
      "cell_type": "markdown",
      "metadata": {
        "id": "h5PXtQpE1BFt"
      },
      "source": [
        "### links\n",
        "\n",
        "http://sebastianraschka.com/Articles/2014_about_feature_scaling.html#about-standardization"
      ]
    },
    {
      "cell_type": "code",
      "metadata": {
        "id": "5qaVDPwS1BFt"
      },
      "source": [],
      "execution_count": null,
      "outputs": []
    }
  ]
}