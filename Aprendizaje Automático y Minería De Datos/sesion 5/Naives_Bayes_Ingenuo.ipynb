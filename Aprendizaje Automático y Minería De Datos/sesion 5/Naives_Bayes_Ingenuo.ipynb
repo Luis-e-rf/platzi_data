{
  "cells": [
    {
      "cell_type": "markdown",
      "metadata": {
        "id": "view-in-github",
        "colab_type": "text"
      },
      "source": [
        "<a href=\"https://colab.research.google.com/github/Yurakc/platzi_data/blob/main/Aprendizaje%20Autom%C3%A1tico%20y%20Miner%C3%ADa%20De%20Datos/sesion%205/Naives_Bayes_Ingenuo.ipynb\" target=\"_parent\"><img src=\"https://colab.research.google.com/assets/colab-badge.svg\" alt=\"Open In Colab\"/></a>"
      ]
    },
    {
      "cell_type": "code",
      "execution_count": null,
      "metadata": {
        "id": "0WU9a70GYe85"
      },
      "outputs": [],
      "source": [
        "from sklearn import datasets\n",
        "\n",
        "# Ejemplo Naive Bayes usuando iris dataset\n",
        "iris = datasets.load_iris()\n",
        "X = iris.data\n",
        "y = iris.target"
      ]
    },
    {
      "cell_type": "markdown",
      "metadata": {
        "id": "1baiMxFnYe89"
      },
      "source": [
        "texto prueba dos"
      ]
    },
    {
      "cell_type": "markdown",
      "metadata": {
        "id": "vrCth3V5Ye8-"
      },
      "source": [
        "Este texto es de prueba"
      ]
    },
    {
      "cell_type": "code",
      "execution_count": null,
      "metadata": {
        "id": "aT_ohX3oYe8_",
        "outputId": "cf5b940b-f0d1-45b8-d92c-d02941425a3c"
      },
      "outputs": [
        {
          "data": {
            "text/plain": [
              "(150, 4)"
            ]
          },
          "execution_count": 2,
          "metadata": {},
          "output_type": "execute_result"
        }
      ],
      "source": [
        "X.shape"
      ]
    },
    {
      "cell_type": "code",
      "execution_count": null,
      "metadata": {
        "id": "bl7smJ6TYe9A"
      },
      "outputs": [],
      "source": [
        "from sklearn.model_selection import train_test_split\n",
        "\n",
        "# Dividir los datos en entrenamiento y evaluación\n",
        "X_train, X_test, y_train, y_test = train_test_split(X, y, test_size=0.3, \n",
        "                                                    random_state=0)"
      ]
    },
    {
      "cell_type": "code",
      "execution_count": null,
      "metadata": {
        "id": "j7CKMx_zYe9B",
        "outputId": "5fec5cfb-1b4b-4c52-a6f7-d615f46b9dd3"
      },
      "outputs": [
        {
          "data": {
            "text/plain": [
              "(105, 4)"
            ]
          },
          "execution_count": 12,
          "metadata": {},
          "output_type": "execute_result"
        }
      ],
      "source": [
        "X_train.shape"
      ]
    },
    {
      "cell_type": "code",
      "execution_count": null,
      "metadata": {
        "id": "srUQa6xsYe9C",
        "outputId": "05e3c480-87c7-4d8f-fc23-efa4b021e907"
      },
      "outputs": [
        {
          "data": {
            "text/plain": [
              "(45, 4)"
            ]
          },
          "execution_count": 13,
          "metadata": {},
          "output_type": "execute_result"
        }
      ],
      "source": [
        "X_test.shape"
      ]
    },
    {
      "cell_type": "code",
      "execution_count": null,
      "metadata": {
        "id": "Gecrhu9aYe9C"
      },
      "outputs": [],
      "source": [
        "from sklearn.naive_bayes import GaussianNB\n",
        "# inicializar el clasificador Naive Bayes\n",
        "bayes_ingenuo = GaussianNB()"
      ]
    },
    {
      "cell_type": "code",
      "execution_count": null,
      "metadata": {
        "id": "78UslPJYYe9D",
        "outputId": "b4786168-3537-4694-c330-f3ea010732ba"
      },
      "outputs": [
        {
          "name": "stdout",
          "output_type": "stream",
          "text": [
            "[[16  0  0]\n",
            " [ 0 18  0]\n",
            " [ 0  0 11]]\n",
            "Cantidad de errores de clasificación sobre un total de 45 casos: 0\n",
            "Efectividad del algoritmo:  1.00\n"
          ]
        },
        {
          "data": {
            "image/png": "[encoded data removed]",
            "text/plain": [
              "<Figure size 432x288 with 1 Axes>"
            ]
          },
          "metadata": {
            "needs_background": "light"
          },
          "output_type": "display_data"
        }
      ],
      "source": [
        "from sklearn.metrics import confusion_matrix\n",
        "import seaborn as sns\n",
        "import matplotlib.pyplot as plt\n",
        "\n",
        "# predicción \n",
        "y_pred = bayes_ingenuo.fit(X_train, y_train).predict(X_test)\n",
        "\n",
        "# Matriz de confusión\n",
        "cnf_matrix = confusion_matrix(y_test, y_pred)\n",
        "\n",
        "print(cnf_matrix)\n",
        "\n",
        "print(\"Cantidad de errores de clasificación sobre un total de {0} casos: {1}\"\n",
        "      .format(y_test.shape[0],(y_test != y_pred).sum()))\n",
        "print(\"Efectividad del algoritmo: {0: .2f}\"\n",
        "      .format(1 - (y_test != y_pred).sum()/y_test.shape[0]))\n",
        "\n",
        "# Graficando la matriz de confusión\n",
        "sns.heatmap(cnf_matrix.T, square=True, annot=True, fmt='d', cbar=False, cmap=\"Blues\")\n",
        "plt.xlabel('Clase verdadera')\n",
        "plt.ylabel('Clase predecida')\n",
        "plt.title('Matriz de Confusión')\n",
        "plt.show()"
      ]
    },
    {
      "cell_type": "markdown",
      "metadata": {
        "id": "oagfEkY_Ye9D"
      },
      "source": [
        "Debido a que los clasificadores bayesianos ingenuos hacen suposiciones tan estrictas acerca de los datos, generalmente no funcionarán tan bien con modelos más complicados. Dicho esto, tienen varias ventajas:\n",
        "\n",
        "Son extremadamente rápidos tanto para entrenamiento como para predicción\n",
        "Proporcionan una predicción probabilística directa\n",
        "A menudo son muy fácilmente interpretables\n",
        "Tienen muy pocos parámetros que necesiten optimizarse.\n",
        "\n",
        "Estas ventajas significan que un clasificador bayesiano ingenuo es a menudo una buena opción como un modelo de clasificación inicial. Si obtenemos resultados satisfactorios, entonces tenemos un clasificador muy rápido, y muy fácil de interpretar. Si no funciona bien, entonces podemos comenzar a explorar modelos más sofisticados.\n",
        "\n",
        "Aquí concluye esta introducción a la inferencia bayesiana; como vemos es una teoría sumamente fascinante con serias implicancias filosóficas. La teoría Bayesiana es mucho más que un simple teorema de probabilidad, es una lógica para razonar sobre el amplio espectro de la vida que se encuentra en las áreas grises entre la verdad absoluta y la incertidumbre total. A menudo tenemos información sobre sólo una pequeña parte de lo que nos preguntamos. Sin embargo, todos queremos predecir algo basado en nuestras experiencias pasadas; y adaptamos nuestras creencias a medida que adquirimos nueva información. La inferencia bayesiana nos proporciona una forma de pensar racionalmente sobre el mundo que nos rodea."
      ]
    }
  ],
  "metadata": {
    "kernelspec": {
      "display_name": "Python 3",
      "language": "python",
      "name": "python3"
    },
    "language_info": {
      "codemirror_mode": {
        "name": "ipython",
        "version": 3
      },
      "file_extension": ".py",
      "mimetype": "text/x-python",
      "name": "python",
      "nbconvert_exporter": "python",
      "pygments_lexer": "ipython3",
      "version": "3.8.3"
    },
    "colab": {
      "provenance": [],
      "include_colab_link": true
    }
  },
  "nbformat": 4,
  "nbformat_minor": 0
}