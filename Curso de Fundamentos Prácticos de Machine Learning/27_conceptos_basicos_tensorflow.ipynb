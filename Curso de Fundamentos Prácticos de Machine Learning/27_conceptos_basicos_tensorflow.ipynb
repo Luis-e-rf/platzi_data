{
  "nbformat": 4,
  "nbformat_minor": 0,
  "metadata": {
    "colab": {
      "name": "27 conceptos basicos tensorflow.ipynb",
      "provenance": [],
      "collapsed_sections": [],
      "authorship_tag": "ABX9TyO6zIx2dtHhj+UoWtjy9CZu",
      "include_colab_link": true
    },
    "kernelspec": {
      "name": "python3",
      "display_name": "Python 3"
    },
    "language_info": {
      "name": "python"
    }
  },
  "cells": [
    {
      "cell_type": "markdown",
      "metadata": {
        "id": "view-in-github",
        "colab_type": "text"
      },
      "source": [
        "<a href=\"https://colab.research.google.com/github/Yurakc/platzi_data/blob/main/Curso%20de%20Fundamentos%20Pr%C3%A1cticos%20de%20Machine%20Learning/27_conceptos_basicos_tensorflow.ipynb\" target=\"_parent\"><img src=\"https://colab.research.google.com/assets/colab-badge.svg\" alt=\"Open In Colab\"/></a>"
      ]
    },
    {
      "cell_type": "markdown",
      "source": [
        "Importar la biblioteca:"
      ],
      "metadata": {
        "id": "cfJWi3eptpqj"
      }
    },
    {
      "cell_type": "code",
      "execution_count": 3,
      "metadata": {
        "id": "vmLX2LNYtWzS"
      },
      "outputs": [],
      "source": [
        "import tensorflow as tf"
      ]
    },
    {
      "cell_type": "markdown",
      "source": [
        "\n",
        "\n",
        "Importar el modelo:\n"
      ],
      "metadata": {
        "id": "zUfm1S1Ytsr4"
      }
    },
    {
      "cell_type": "code",
      "source": [
        "from tensorflow import keras"
      ],
      "metadata": {
        "id": "BGdCZoHgttDM"
      },
      "execution_count": 4,
      "outputs": []
    },
    {
      "cell_type": "markdown",
      "source": [
        "Cargar conjunto de datos de Tensor Flow:"
      ],
      "metadata": {
        "id": "TCHpE92Fty5Y"
      }
    },
    {
      "cell_type": "code",
      "source": [
        "fashion_mnist = keras.datasets.fashion_mnist\n",
        "(train_images, train_labels), (test_images, test_labels) = fashion_mnist.load_data()"
      ],
      "metadata": {
        "colab": {
          "base_uri": "https://localhost:8080/"
        },
        "id": "r8A3JN0at1Wd",
        "outputId": "4b393efd-e07e-48b4-b506-453e4bec5357"
      },
      "execution_count": 5,
      "outputs": [
        {
          "output_type": "stream",
          "name": "stdout",
          "text": [
            "Downloading data from https://storage.googleapis.com/tensorflow/tf-keras-datasets/train-labels-idx1-ubyte.gz\n",
            "32768/29515 [=================================] - 0s 0us/step\n",
            "40960/29515 [=========================================] - 0s 0us/step\n",
            "Downloading data from https://storage.googleapis.com/tensorflow/tf-keras-datasets/train-images-idx3-ubyte.gz\n",
            "26427392/26421880 [==============================] - 0s 0us/step\n",
            "26435584/26421880 [==============================] - 0s 0us/step\n",
            "Downloading data from https://storage.googleapis.com/tensorflow/tf-keras-datasets/t10k-labels-idx1-ubyte.gz\n",
            "16384/5148 [===============================================================================================] - 0s 0us/step\n",
            "Downloading data from https://storage.googleapis.com/tensorflow/tf-keras-datasets/t10k-images-idx3-ubyte.gz\n",
            "4423680/4422102 [==============================] - 0s 0us/step\n",
            "4431872/4422102 [==============================] - 0s 0us/step\n"
          ]
        }
      ]
    },
    {
      "cell_type": "markdown",
      "source": [
        "Crear modelo secuencial:"
      ],
      "metadata": {
        "id": "9FiWfwc_t6cj"
      }
    },
    {
      "cell_type": "code",
      "source": [
        "model = keras.Sequential([keras.layers.Flatten(input_shape = (28, 28)), keras.layers.Dense(128, activation = tf.nn.relu), keras.layers.Dense(10, activation = tf.nn.softmax)])"
      ],
      "metadata": {
        "id": "2tF5bbc-t7F8"
      },
      "execution_count": 6,
      "outputs": []
    },
    {
      "cell_type": "markdown",
      "source": [
        "Compilación del modelo:"
      ],
      "metadata": {
        "id": "Yz6do2T5t-Ro"
      }
    },
    {
      "cell_type": "code",
      "source": [
        "model.compile(optimizer = tf.optimizers.Adam(), loss = \"sparse_categorical_crossentropy\", metrics = [\"accuracy\"])"
      ],
      "metadata": {
        "id": "ER077Vv2uAtz"
      },
      "execution_count": 8,
      "outputs": []
    },
    {
      "cell_type": "markdown",
      "source": [
        "Entrenamiento:"
      ],
      "metadata": {
        "id": "LMLGrLkQujvx"
      }
    },
    {
      "cell_type": "code",
      "source": [
        "model.fit(train_images, train_labels, epochs = 5)"
      ],
      "metadata": {
        "colab": {
          "base_uri": "https://localhost:8080/"
        },
        "id": "jCLMqEyEukyE",
        "outputId": "7f3bee1d-2f83-4f36-b51b-db89c01cd894"
      },
      "execution_count": 9,
      "outputs": [
        {
          "output_type": "stream",
          "name": "stdout",
          "text": [
            "Epoch 1/5\n",
            "1875/1875 [==============================] - 6s 3ms/step - loss: 3.5462 - accuracy: 0.6911\n",
            "Epoch 2/5\n",
            "1875/1875 [==============================] - 6s 3ms/step - loss: 0.7519 - accuracy: 0.7301\n",
            "Epoch 3/5\n",
            "1875/1875 [==============================] - 6s 3ms/step - loss: 0.6236 - accuracy: 0.7788\n",
            "Epoch 4/5\n",
            "1875/1875 [==============================] - 5s 3ms/step - loss: 0.5447 - accuracy: 0.8071\n",
            "Epoch 5/5\n",
            "1875/1875 [==============================] - 5s 3ms/step - loss: 0.5315 - accuracy: 0.8145\n"
          ]
        },
        {
          "output_type": "execute_result",
          "data": {
            "text/plain": [
              "<keras.callbacks.History at 0x7fe30a85cc90>"
            ]
          },
          "metadata": {},
          "execution_count": 9
        }
      ]
    },
    {
      "cell_type": "markdown",
      "source": [
        "Evaluación del modelo:"
      ],
      "metadata": {
        "id": "p_Qj38qXuxUL"
      }
    },
    {
      "cell_type": "code",
      "source": [
        "test_loss, test_acc = model.evaluate( test_images, test_labels )"
      ],
      "metadata": {
        "colab": {
          "base_uri": "https://localhost:8080/"
        },
        "id": "IX72aIexuy4d",
        "outputId": "b156444c-4c00-465b-db6c-f381e0a6e0cf"
      },
      "execution_count": 10,
      "outputs": [
        {
          "output_type": "stream",
          "name": "stdout",
          "text": [
            "313/313 [==============================] - 1s 2ms/step - loss: 0.5473 - accuracy: 0.8208\n"
          ]
        }
      ]
    },
    {
      "cell_type": "markdown",
      "source": [
        "Predicción del modelo:"
      ],
      "metadata": {
        "id": "4y2VK_GKu0_n"
      }
    },
    {
      "cell_type": "code",
      "source": [
        "model.predict(test_images)"
      ],
      "metadata": {
        "colab": {
          "base_uri": "https://localhost:8080/"
        },
        "id": "kB7v1ENEu199",
        "outputId": "2fffc910-dc32-4799-886f-391c302b8a98"
      },
      "execution_count": 11,
      "outputs": [
        {
          "output_type": "execute_result",
          "data": {
            "text/plain": [
              "array([[5.32256234e-15, 2.29112934e-21, 0.00000000e+00, ...,\n",
              "        7.86442589e-03, 5.13190944e-13, 8.46118867e-01],\n",
              "       [1.99850951e-03, 1.78199434e-06, 9.83434498e-01, ...,\n",
              "        1.31656825e-30, 1.66999132e-06, 7.77192232e-24],\n",
              "       [4.36231407e-09, 1.00000000e+00, 7.01893979e-15, ...,\n",
              "        0.00000000e+00, 1.70987873e-23, 0.00000000e+00],\n",
              "       ...,\n",
              "       [5.81051790e-16, 9.49795517e-21, 3.03902476e-25, ...,\n",
              "        0.00000000e+00, 1.00000000e+00, 1.20249596e-36],\n",
              "       [1.69109376e-06, 9.99997497e-01, 2.38236340e-11, ...,\n",
              "        0.00000000e+00, 3.44157189e-16, 0.00000000e+00],\n",
              "       [7.27208611e-03, 1.04676216e-11, 1.06752895e-09, ...,\n",
              "        6.07830696e-02, 1.36315286e-01, 2.93869991e-02]], dtype=float32)"
            ]
          },
          "metadata": {},
          "execution_count": 11
        }
      ]
    }
  ]
}